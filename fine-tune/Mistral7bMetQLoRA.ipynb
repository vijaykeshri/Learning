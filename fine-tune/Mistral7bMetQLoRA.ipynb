{
  "nbformat": 4,
  "nbformat_minor": 0,
  "metadata": {
    "colab": {
      "provenance": [],
      "authorship_tag": "ABX9TyNGU8A1jpex8iXd2xo9KZuh",
      "include_colab_link": true
    },
    "kernelspec": {
      "name": "python3",
      "display_name": "Python 3"
    },
    "language_info": {
      "name": "python"
    }
  },
  "cells": [
    {
      "cell_type": "markdown",
      "metadata": {
        "id": "view-in-github",
        "colab_type": "text"
      },
      "source": [
        "<a href=\"https://colab.research.google.com/github/vijaykeshri/Learning/blob/develop/Mistral7bMetQLoRA.ipynb\" target=\"_parent\"><img src=\"https://colab.research.google.com/assets/colab-badge.svg\" alt=\"Open In Colab\"/></a>"
      ]
    },
    {
      "cell_type": "markdown",
      "source": [
        "***fine-tuning*** takes much less data and computation compared to the previous pre-trained/foundation model but it’s still not possible on consumer-grade hardware.\n",
        "\n",
        "**PEFT(parameter efficient fine-tuning)** fixes this issue and applies clever methods to make fine-tuning possible even on the free tier of Google Colab.\n",
        "\n",
        "Lets use **Quantization** and **LoRA**(Low-Rank Adaptation) to fine-tune Mistral 7b instruct and introduce new knowledge to it."
      ],
      "metadata": {
        "id": "pVG0UAzZiAOH"
      }
    },
    {
      "cell_type": "code",
      "execution_count": 1,
      "metadata": {
        "id": "g66p_JDfVrZd"
      },
      "outputs": [],
      "source": [
        "import pandas as pd"
      ]
    }
  ]
}
